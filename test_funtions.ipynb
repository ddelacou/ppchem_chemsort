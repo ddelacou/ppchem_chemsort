{
 "cells": [
  {
   "cell_type": "code",
   "execution_count": 2,
   "metadata": {},
   "outputs": [
    {
     "ename": "TypeError",
     "evalue": "'function' object is not iterable",
     "output_type": "error",
     "traceback": [
      "\u001b[0;31m---------------------------------------------------------------------------\u001b[0m",
      "\u001b[0;31mTypeError\u001b[0m                                 Traceback (most recent call last)",
      "Cell \u001b[0;32mIn[2], line 35\u001b[0m\n\u001b[1;32m     30\u001b[0m     compounds_to_sort\u001b[38;5;241m.\u001b[39mappend(compound_info)\n\u001b[1;32m     34\u001b[0m storage_groups_initial \u001b[38;5;241m=\u001b[39m initialize_storage_groups\n\u001b[0;32m---> 35\u001b[0m storage_groups_final \u001b[38;5;241m=\u001b[39m \u001b[43mchemsort_multiple_order_3\u001b[49m\u001b[43m(\u001b[49m\u001b[43mcompounds_to_sort\u001b[49m\u001b[43m,\u001b[49m\u001b[43m \u001b[49m\u001b[43mstorage_groups_initial\u001b[49m\u001b[43m)\u001b[49m\n\u001b[1;32m     36\u001b[0m \u001b[38;5;28mprint\u001b[39m(storage_groups_final)\n",
      "File \u001b[0;32m~/Downloads/ppchem_chemsort/src/chemstor/functions.py:527\u001b[0m, in \u001b[0;36mchemsort_multiple_order_3\u001b[0;34m(compounds, storage_groups)\u001b[0m\n\u001b[1;32m    525\u001b[0m custom_group_counter \u001b[38;5;241m=\u001b[39m \u001b[38;5;241m1\u001b[39m\n\u001b[1;32m    526\u001b[0m custom_group_prefix \u001b[38;5;241m=\u001b[39m \u001b[38;5;124m\"\u001b[39m\u001b[38;5;124mcustom_storage_\u001b[39m\u001b[38;5;124m\"\u001b[39m\n\u001b[0;32m--> 527\u001b[0m custom_groups \u001b[38;5;241m=\u001b[39m [key \u001b[38;5;28;01mfor\u001b[39;00m key \u001b[38;5;129;01min\u001b[39;00m storage_groups \u001b[38;5;28;01mif\u001b[39;00m key\u001b[38;5;241m.\u001b[39mstartswith(custom_group_prefix)]\n\u001b[1;32m    529\u001b[0m \u001b[38;5;28;01mdef\u001b[39;00m\u001b[38;5;250m \u001b[39m\u001b[38;5;21mis_compatible_with_group\u001b[39m(group_name, state_key, compound, group_dict\u001b[38;5;241m=\u001b[39mstorage_groups):\n\u001b[1;32m    530\u001b[0m     compounds_in_group \u001b[38;5;241m=\u001b[39m group_dict[group_name][state_key]\n",
      "\u001b[0;31mTypeError\u001b[0m: 'function' object is not iterable"
     ]
    }
   ],
   "source": [
    "from chemstor import (\n",
    "    get_compound_safety_data,\n",
    "    get_name_and_smiles,\n",
    "    classify_acid_base,\n",
    "    get_mp_bp,\n",
    "    compound_state,\n",
    "    prioritize_pictograms,\n",
    "    initialize_storage_groups,\n",
    "    chemsort_multiple_order_3\n",
    ")\n",
    "\n",
    "compounds = [\"triethylamine\", \"ammonia\", \"water\", \"glucose\", \"oxygen\", \"maleic acid\"]\n",
    "compounds_to_sort = []\n",
    "\n",
    "for compound in compounds:\n",
    "    cid, pictos, hazards = get_compound_safety_data(compound)\n",
    "    name, iupac, smiles = get_name_and_smiles(cid)\n",
    "    acid_base_class = classify_acid_base(name, iupac, smiles, hazards)\n",
    "    mp_c, bp_c, mp_f, bp_f = get_mp_bp(compound)\n",
    "    state = compound_state(mp_c, bp_c, mp_f, bp_f)\n",
    "    sorted_pictos = prioritize_pictograms(pictos)\n",
    "    \n",
    "    compound_info = {\n",
    "        'name': name, \n",
    "        'sorted_pictograms': sorted_pictos, \n",
    "        'hazard_statements': hazards, \n",
    "        'acid_base_class': acid_base_class,\n",
    "        'state_room_temp': state}\n",
    "    \n",
    "    compounds_to_sort.append(compound_info)\n",
    "    \n",
    "    \n",
    "    \n",
    "storage_groups_initial = initialize_storage_groups\n",
    "storage_groups_final = chemsort_multiple_order_3(compounds_to_sort, storage_groups_initial)\n",
    "print(storage_groups_final)\n"
   ]
  }
 ],
 "metadata": {
  "kernelspec": {
   "display_name": "chemstorenv",
   "language": "python",
   "name": "python3"
  },
  "language_info": {
   "codemirror_mode": {
    "name": "ipython",
    "version": 3
   },
   "file_extension": ".py",
   "mimetype": "text/x-python",
   "name": "python",
   "nbconvert_exporter": "python",
   "pygments_lexer": "ipython3",
   "version": "3.10.16"
  }
 },
 "nbformat": 4,
 "nbformat_minor": 2
}
